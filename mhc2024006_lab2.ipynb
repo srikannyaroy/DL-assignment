{
  "cells": [
    {
      "cell_type": "markdown",
      "metadata": {
        "id": "view-in-github",
        "colab_type": "text"
      },
      "source": [
        "<a href=\"https://colab.research.google.com/github/srikannyaroy/DL-assignment/blob/main/mhc2024006_lab2.ipynb\" target=\"_parent\"><img src=\"https://colab.research.google.com/assets/colab-badge.svg\" alt=\"Open In Colab\"/></a>"
      ]
    },
    {
      "cell_type": "code",
      "execution_count": null,
      "id": "2d85edc5-6445-49c7-b20a-5fa7fb2c42b9",
      "metadata": {
        "id": "2d85edc5-6445-49c7-b20a-5fa7fb2c42b9"
      },
      "outputs": [],
      "source": [
        "import numpy as np\n",
        "import torch\n",
        "from torchvision import datasets, transforms\n",
        "from torch.utils.data import DataLoader\n",
        "import torch.nn as nn\n",
        "import torch.optim as optim"
      ]
    },
    {
      "cell_type": "code",
      "execution_count": null,
      "id": "894cad8d-5244-4c68-9efc-16acab35ca1b",
      "metadata": {
        "colab": {
          "base_uri": "https://localhost:8080/"
        },
        "id": "894cad8d-5244-4c68-9efc-16acab35ca1b",
        "outputId": "eb34644b-947e-497a-f9aa-c04921bcd845"
      },
      "outputs": [
        {
          "output_type": "execute_result",
          "data": {
            "text/plain": [
              "device(type='cpu')"
            ]
          },
          "metadata": {},
          "execution_count": 2
        }
      ],
      "source": [
        "device = torch.device('cuda' if torch.cuda.is_available() else 'cpu')\n",
        "device"
      ]
    },
    {
      "cell_type": "code",
      "execution_count": null,
      "id": "14ecd7a6-5769-4f7a-b6b7-95ed5b404bcf",
      "metadata": {
        "colab": {
          "base_uri": "https://localhost:8080/"
        },
        "id": "14ecd7a6-5769-4f7a-b6b7-95ed5b404bcf",
        "outputId": "e92d1369-7d5a-438a-cf72-4a036a4c9109"
      },
      "outputs": [
        {
          "output_type": "stream",
          "name": "stdout",
          "text": [
            "Downloading http://yann.lecun.com/exdb/mnist/train-images-idx3-ubyte.gz\n",
            "Failed to download (trying next):\n",
            "<urlopen error [Errno 111] Connection refused>\n",
            "\n",
            "Downloading https://ossci-datasets.s3.amazonaws.com/mnist/train-images-idx3-ubyte.gz\n",
            "Downloading https://ossci-datasets.s3.amazonaws.com/mnist/train-images-idx3-ubyte.gz to ./data/MNIST/raw/train-images-idx3-ubyte.gz\n"
          ]
        },
        {
          "output_type": "stream",
          "name": "stderr",
          "text": [
            "100%|██████████| 9.91M/9.91M [00:01<00:00, 5.24MB/s]\n"
          ]
        },
        {
          "output_type": "stream",
          "name": "stdout",
          "text": [
            "Extracting ./data/MNIST/raw/train-images-idx3-ubyte.gz to ./data/MNIST/raw\n",
            "\n",
            "Downloading http://yann.lecun.com/exdb/mnist/train-labels-idx1-ubyte.gz\n",
            "Failed to download (trying next):\n",
            "<urlopen error [Errno 111] Connection refused>\n",
            "\n",
            "Downloading https://ossci-datasets.s3.amazonaws.com/mnist/train-labels-idx1-ubyte.gz\n",
            "Downloading https://ossci-datasets.s3.amazonaws.com/mnist/train-labels-idx1-ubyte.gz to ./data/MNIST/raw/train-labels-idx1-ubyte.gz\n"
          ]
        },
        {
          "output_type": "stream",
          "name": "stderr",
          "text": [
            "100%|██████████| 28.9k/28.9k [00:00<00:00, 157kB/s]\n"
          ]
        },
        {
          "output_type": "stream",
          "name": "stdout",
          "text": [
            "Extracting ./data/MNIST/raw/train-labels-idx1-ubyte.gz to ./data/MNIST/raw\n",
            "\n",
            "Downloading http://yann.lecun.com/exdb/mnist/t10k-images-idx3-ubyte.gz\n",
            "Failed to download (trying next):\n",
            "<urlopen error [Errno 111] Connection refused>\n",
            "\n",
            "Downloading https://ossci-datasets.s3.amazonaws.com/mnist/t10k-images-idx3-ubyte.gz\n",
            "Downloading https://ossci-datasets.s3.amazonaws.com/mnist/t10k-images-idx3-ubyte.gz to ./data/MNIST/raw/t10k-images-idx3-ubyte.gz\n"
          ]
        },
        {
          "output_type": "stream",
          "name": "stderr",
          "text": [
            "100%|██████████| 1.65M/1.65M [00:01<00:00, 1.46MB/s]\n"
          ]
        },
        {
          "output_type": "stream",
          "name": "stdout",
          "text": [
            "Extracting ./data/MNIST/raw/t10k-images-idx3-ubyte.gz to ./data/MNIST/raw\n",
            "\n",
            "Downloading http://yann.lecun.com/exdb/mnist/t10k-labels-idx1-ubyte.gz\n",
            "Failed to download (trying next):\n",
            "<urlopen error [Errno 111] Connection refused>\n",
            "\n",
            "Downloading https://ossci-datasets.s3.amazonaws.com/mnist/t10k-labels-idx1-ubyte.gz\n",
            "Downloading https://ossci-datasets.s3.amazonaws.com/mnist/t10k-labels-idx1-ubyte.gz to ./data/MNIST/raw/t10k-labels-idx1-ubyte.gz\n"
          ]
        },
        {
          "output_type": "stream",
          "name": "stderr",
          "text": [
            "100%|██████████| 4.54k/4.54k [00:00<00:00, 2.51MB/s]"
          ]
        },
        {
          "output_type": "stream",
          "name": "stdout",
          "text": [
            "Extracting ./data/MNIST/raw/t10k-labels-idx1-ubyte.gz to ./data/MNIST/raw\n",
            "\n"
          ]
        },
        {
          "output_type": "stream",
          "name": "stderr",
          "text": [
            "\n"
          ]
        }
      ],
      "source": [
        "transform = transforms.Compose([\n",
        "    transforms.ToTensor(),\n",
        "    transforms.Normalize((0.5, ), (0.5,))\n",
        "])\n",
        "\n",
        "train_data = datasets.MNIST(\n",
        "    root = \"./data\",\n",
        "    train = True,\n",
        "    transform = transform,\n",
        "    download = True\n",
        ")\n",
        "\n",
        "test_data = datasets.MNIST(\n",
        "    root = \"./data\",\n",
        "    train = False,\n",
        "    transform = transform,\n",
        "    download = True\n",
        ")\n",
        "\n",
        "train_loader = DataLoader(train_data, batch_size = 32, shuffle = True)\n",
        "test_loader = DataLoader(test_data, batch_size = 32, shuffle = True)"
      ]
    },
    {
      "cell_type": "code",
      "execution_count": null,
      "id": "f2b415dd-db52-4ae0-a904-fb126d0cc4ab",
      "metadata": {
        "id": "f2b415dd-db52-4ae0-a904-fb126d0cc4ab"
      },
      "outputs": [],
      "source": [
        "class NeuralNetwork(nn.Module):\n",
        "    def __init__(self, input_size=784, hidden_size=128, num_classes=10):\n",
        "        super(NeuralNetwork, self).__init__()\n",
        "        self.fc1 = nn.Linear(input_size, hidden_size)\n",
        "        self.relu = nn.ReLU()\n",
        "        self.fc2 = nn.Linear(hidden_size, hidden_size)\n",
        "        self.fc3 = nn.Linear(hidden_size, num_classes)\n",
        "\n",
        "    def forward(self, x):\n",
        "        x = x.view(x.size(0), -1)\n",
        "        x = self.fc1(x)\n",
        "        x = self.relu(x)\n",
        "        x = self.fc2(x)\n",
        "        x = self.relu(x)\n",
        "        x = self.fc3(x)\n",
        "        return x"
      ]
    },
    {
      "cell_type": "code",
      "execution_count": null,
      "id": "133e5833-6cba-46f0-b4d4-ea343eb56da7",
      "metadata": {
        "id": "133e5833-6cba-46f0-b4d4-ea343eb56da7"
      },
      "outputs": [],
      "source": [
        "model = NeuralNetwork().to(device)\n",
        "criterion = nn.CrossEntropyLoss()\n",
        "optimizer = optim.Adam(model.parameters(), lr=0.001)"
      ]
    },
    {
      "cell_type": "code",
      "execution_count": null,
      "id": "f5012112-17f2-446c-87c7-874c45ec1429",
      "metadata": {
        "id": "f5012112-17f2-446c-87c7-874c45ec1429"
      },
      "outputs": [],
      "source": [
        "def train_model(model, loader, criterion, optimizer, epochs=5):\n",
        "    model.train()\n",
        "    for epoch in range(epochs):\n",
        "        for images, labels in loader:\n",
        "            images, labels = images.to(device), labels.to(device)\n",
        "            outputs = model(images)\n",
        "            loss = criterion(outputs, labels)\n",
        "            optimizer.zero_grad()\n",
        "            loss.backward()\n",
        "            optimizer.step()\n",
        "        print(f\"Epoch [{epoch+1}/{epochs}], Loss: {loss.item():.4f}\")"
      ]
    },
    {
      "cell_type": "code",
      "execution_count": null,
      "id": "bc61d681-eede-4844-90ad-98a5929b3359",
      "metadata": {
        "id": "bc61d681-eede-4844-90ad-98a5929b3359"
      },
      "outputs": [],
      "source": [
        "def evaluate_model(model, loader):\n",
        "    model.eval()\n",
        "    correct = 0\n",
        "    total = 0\n",
        "    with torch.no_grad():\n",
        "        for images, labels in loader:\n",
        "            images, labels = images.to(device), labels.to(device)\n",
        "            outputs = model(images)\n",
        "            _, predicted = torch.max(outputs, 1)\n",
        "            total += labels.size(0)\n",
        "            correct += (predicted == labels).sum().item()\n",
        "    accuracy = 100 * correct / total\n",
        "    print(f\"Accuracy: {accuracy:.2f}%\")\n",
        "    return accuracy"
      ]
    },
    {
      "cell_type": "code",
      "execution_count": null,
      "id": "90a32889-cfc1-4f7f-a7ab-5b2dd773dc9f",
      "metadata": {
        "id": "90a32889-cfc1-4f7f-a7ab-5b2dd773dc9f",
        "outputId": "4474a4de-75c9-4dc9-aef0-6fed3743031b"
      },
      "outputs": [
        {
          "name": "stdout",
          "output_type": "stream",
          "text": [
            "Epoch [1/5], Loss: 0.0766\n",
            "Epoch [2/5], Loss: 0.0333\n",
            "Epoch [3/5], Loss: 0.0669\n",
            "Epoch [4/5], Loss: 0.0574\n",
            "Epoch [5/5], Loss: 0.1924\n",
            "Accuracy: 95.43%\n"
          ]
        },
        {
          "data": {
            "text/plain": [
              "95.43"
            ]
          },
          "execution_count": 9,
          "metadata": {},
          "output_type": "execute_result"
        }
      ],
      "source": [
        "train_model(model, train_loader, criterion, optimizer, epochs=5)\n",
        "evaluate_model(model, test_loader)"
      ]
    },
    {
      "cell_type": "code",
      "execution_count": null,
      "id": "5a52904b-6a00-4187-818f-3eb77782f159",
      "metadata": {
        "id": "5a52904b-6a00-4187-818f-3eb77782f159"
      },
      "outputs": [],
      "source": [
        "architectures = [\n",
        "    [784, 128, 10],\n",
        "    [784, 256, 128, 10],\n",
        "    [784, 512, 256, 128, 10]\n",
        "]\n",
        "\n",
        "learning_rates = [0.1, 0.01, 0.001]\n",
        "activation_functions = [nn.ReLU(), nn.Sigmoid(), nn.Tanh()]"
      ]
    },
    {
      "cell_type": "code",
      "execution_count": null,
      "id": "d425928e-3e61-453c-9d35-6ae0fb21a5f9",
      "metadata": {
        "id": "d425928e-3e61-453c-9d35-6ae0fb21a5f9",
        "outputId": "5c674cb1-f0a6-460b-e19a-262fca0609f7"
      },
      "outputs": [
        {
          "name": "stdout",
          "output_type": "stream",
          "text": [
            "Architecture: [784, 128, 10], Learning Rate: 0.1, Activation: ReLU()\n",
            "Epoch [1/5], Loss: 2.2860\n",
            "Epoch [2/5], Loss: 2.3281\n",
            "Epoch [3/5], Loss: 2.3116\n",
            "Epoch [4/5], Loss: 2.3869\n",
            "Epoch [5/5], Loss: 2.3690\n",
            "Accuracy: 9.58%\n",
            "Architecture: [784, 128, 10], Learning Rate: 0.1, Activation: Sigmoid()\n",
            "Epoch [1/5], Loss: 2.9936\n",
            "Epoch [2/5], Loss: 2.6005\n",
            "Epoch [3/5], Loss: 2.9911\n",
            "Epoch [4/5], Loss: 3.0716\n",
            "Epoch [5/5], Loss: 2.9619\n",
            "Accuracy: 9.80%\n",
            "Architecture: [784, 128, 10], Learning Rate: 0.1, Activation: Tanh()\n",
            "Epoch [1/5], Loss: 3.4488\n",
            "Epoch [2/5], Loss: 4.4400\n",
            "Epoch [3/5], Loss: 3.7465\n",
            "Epoch [4/5], Loss: 3.6199\n",
            "Epoch [5/5], Loss: 3.1433\n",
            "Accuracy: 10.28%\n",
            "Architecture: [784, 128, 10], Learning Rate: 0.01, Activation: ReLU()\n",
            "Epoch [1/5], Loss: 0.4105\n",
            "Epoch [2/5], Loss: 0.3964\n",
            "Epoch [3/5], Loss: 0.3106\n",
            "Epoch [4/5], Loss: 0.3397\n",
            "Epoch [5/5], Loss: 0.2088\n",
            "Accuracy: 91.04%\n",
            "Architecture: [784, 128, 10], Learning Rate: 0.01, Activation: Sigmoid()\n",
            "Epoch [1/5], Loss: 0.5591\n",
            "Epoch [2/5], Loss: 0.8857\n",
            "Epoch [3/5], Loss: 0.8305\n",
            "Epoch [4/5], Loss: 0.6262\n",
            "Epoch [5/5], Loss: 0.3199\n",
            "Accuracy: 89.77%\n",
            "Architecture: [784, 128, 10], Learning Rate: 0.01, Activation: Tanh()\n",
            "Epoch [1/5], Loss: 1.0193\n",
            "Epoch [2/5], Loss: 0.8523\n",
            "Epoch [3/5], Loss: 0.7144\n",
            "Epoch [4/5], Loss: 0.3633\n",
            "Epoch [5/5], Loss: 0.7088\n",
            "Accuracy: 82.70%\n",
            "Architecture: [784, 128, 10], Learning Rate: 0.001, Activation: ReLU()\n",
            "Epoch [1/5], Loss: 0.1623\n",
            "Epoch [2/5], Loss: 0.1011\n",
            "Epoch [3/5], Loss: 0.0967\n",
            "Epoch [4/5], Loss: 0.0241\n",
            "Epoch [5/5], Loss: 0.0320\n",
            "Accuracy: 96.26%\n",
            "Architecture: [784, 128, 10], Learning Rate: 0.001, Activation: Sigmoid()\n",
            "Epoch [1/5], Loss: 0.1983\n",
            "Epoch [2/5], Loss: 0.1314\n",
            "Epoch [3/5], Loss: 0.2489\n",
            "Epoch [4/5], Loss: 0.0770\n",
            "Epoch [5/5], Loss: 0.0176\n",
            "Accuracy: 96.90%\n",
            "Architecture: [784, 128, 10], Learning Rate: 0.001, Activation: Tanh()\n",
            "Epoch [1/5], Loss: 0.1304\n",
            "Epoch [2/5], Loss: 0.1230\n",
            "Epoch [3/5], Loss: 0.2378\n",
            "Epoch [4/5], Loss: 0.0705\n",
            "Epoch [5/5], Loss: 0.1528\n",
            "Accuracy: 95.44%\n",
            "Architecture: [784, 256, 128, 10], Learning Rate: 0.1, Activation: ReLU()\n",
            "Epoch [1/5], Loss: 2.3285\n",
            "Epoch [2/5], Loss: 2.3041\n",
            "Epoch [3/5], Loss: 2.2792\n",
            "Epoch [4/5], Loss: 2.2692\n",
            "Epoch [5/5], Loss: 2.3418\n",
            "Accuracy: 9.58%\n",
            "Architecture: [784, 256, 128, 10], Learning Rate: 0.1, Activation: Sigmoid()\n",
            "Epoch [1/5], Loss: 2.7362\n",
            "Epoch [2/5], Loss: 2.6307\n",
            "Epoch [3/5], Loss: 2.8050\n",
            "Epoch [4/5], Loss: 2.6026\n",
            "Epoch [5/5], Loss: 2.7625\n",
            "Accuracy: 9.80%\n",
            "Architecture: [784, 256, 128, 10], Learning Rate: 0.1, Activation: Tanh()\n",
            "Epoch [1/5], Loss: 5.1056\n",
            "Epoch [2/5], Loss: 2.4713\n",
            "Epoch [3/5], Loss: 4.3594\n",
            "Epoch [4/5], Loss: 3.5230\n",
            "Epoch [5/5], Loss: 2.6278\n",
            "Accuracy: 10.32%\n",
            "Architecture: [784, 256, 128, 10], Learning Rate: 0.01, Activation: ReLU()\n",
            "Epoch [1/5], Loss: 0.1544\n",
            "Epoch [2/5], Loss: 0.3442\n",
            "Epoch [3/5], Loss: 0.2487\n",
            "Epoch [4/5], Loss: 0.2993\n",
            "Epoch [5/5], Loss: 0.6142\n",
            "Accuracy: 91.95%\n",
            "Architecture: [784, 256, 128, 10], Learning Rate: 0.01, Activation: Sigmoid()\n",
            "Epoch [1/5], Loss: 0.8385\n",
            "Epoch [2/5], Loss: 0.7409\n",
            "Epoch [3/5], Loss: 0.4837\n",
            "Epoch [4/5], Loss: 0.5111\n",
            "Epoch [5/5], Loss: 0.2217\n",
            "Accuracy: 87.18%\n",
            "Architecture: [784, 256, 128, 10], Learning Rate: 0.01, Activation: Tanh()\n",
            "Epoch [1/5], Loss: 2.4106\n",
            "Epoch [2/5], Loss: 2.3242\n",
            "Epoch [3/5], Loss: 2.2822\n",
            "Epoch [4/5], Loss: 2.4763\n",
            "Epoch [5/5], Loss: 2.3352\n",
            "Accuracy: 9.82%\n",
            "Architecture: [784, 256, 128, 10], Learning Rate: 0.001, Activation: ReLU()\n",
            "Epoch [1/5], Loss: 0.0871\n",
            "Epoch [2/5], Loss: 0.0136\n",
            "Epoch [3/5], Loss: 0.0912\n",
            "Epoch [4/5], Loss: 0.1214\n",
            "Epoch [5/5], Loss: 0.0116\n",
            "Accuracy: 97.33%\n",
            "Architecture: [784, 256, 128, 10], Learning Rate: 0.001, Activation: Sigmoid()\n",
            "Epoch [1/5], Loss: 0.1489\n",
            "Epoch [2/5], Loss: 0.0081\n",
            "Epoch [3/5], Loss: 0.1909\n",
            "Epoch [4/5], Loss: 0.0948\n",
            "Epoch [5/5], Loss: 0.0180\n",
            "Accuracy: 96.76%\n",
            "Architecture: [784, 256, 128, 10], Learning Rate: 0.001, Activation: Tanh()\n",
            "Epoch [1/5], Loss: 0.0434\n",
            "Epoch [2/5], Loss: 0.0954\n",
            "Epoch [3/5], Loss: 0.0390\n",
            "Epoch [4/5], Loss: 0.1915\n",
            "Epoch [5/5], Loss: 0.0253\n",
            "Accuracy: 96.33%\n",
            "Architecture: [784, 512, 256, 128, 10], Learning Rate: 0.1, Activation: ReLU()\n",
            "Epoch [1/5], Loss: 2.3123\n",
            "Epoch [2/5], Loss: 2.2908\n",
            "Epoch [3/5], Loss: 2.2696\n",
            "Epoch [4/5], Loss: 2.2781\n",
            "Epoch [5/5], Loss: 2.2784\n",
            "Accuracy: 10.32%\n",
            "Architecture: [784, 512, 256, 128, 10], Learning Rate: 0.1, Activation: Sigmoid()\n",
            "Epoch [1/5], Loss: 2.5426\n",
            "Epoch [2/5], Loss: 4.0235\n",
            "Epoch [3/5], Loss: 2.9840\n",
            "Epoch [4/5], Loss: 2.7613\n",
            "Epoch [5/5], Loss: 2.8912\n",
            "Accuracy: 9.80%\n",
            "Architecture: [784, 512, 256, 128, 10], Learning Rate: 0.1, Activation: Tanh()\n",
            "Epoch [1/5], Loss: 4.2193\n",
            "Epoch [2/5], Loss: 3.2155\n",
            "Epoch [3/5], Loss: 2.7398\n",
            "Epoch [4/5], Loss: 2.7844\n",
            "Epoch [5/5], Loss: 3.6320\n",
            "Accuracy: 10.28%\n",
            "Architecture: [784, 512, 256, 128, 10], Learning Rate: 0.01, Activation: ReLU()\n",
            "Epoch [1/5], Loss: 0.1986\n",
            "Epoch [2/5], Loss: 0.4902\n",
            "Epoch [3/5], Loss: 0.4106\n",
            "Epoch [4/5], Loss: 0.7271\n",
            "Epoch [5/5], Loss: 0.0421\n",
            "Accuracy: 90.65%\n",
            "Architecture: [784, 512, 256, 128, 10], Learning Rate: 0.01, Activation: Sigmoid()\n",
            "Epoch [1/5], Loss: 1.8337\n",
            "Epoch [2/5], Loss: 1.4517\n",
            "Epoch [3/5], Loss: 1.7909\n",
            "Epoch [4/5], Loss: 1.7522\n",
            "Epoch [5/5], Loss: 1.6927\n",
            "Accuracy: 27.26%\n",
            "Architecture: [784, 512, 256, 128, 10], Learning Rate: 0.01, Activation: Tanh()\n",
            "Epoch [1/5], Loss: 2.2951\n",
            "Epoch [2/5], Loss: 2.4523\n",
            "Epoch [3/5], Loss: 2.5116\n",
            "Epoch [4/5], Loss: 2.3867\n",
            "Epoch [5/5], Loss: 2.5576\n",
            "Accuracy: 11.35%\n",
            "Architecture: [784, 512, 256, 128, 10], Learning Rate: 0.001, Activation: ReLU()\n",
            "Epoch [1/5], Loss: 0.3453\n",
            "Epoch [2/5], Loss: 0.3016\n",
            "Epoch [3/5], Loss: 0.0120\n",
            "Epoch [4/5], Loss: 0.0820\n",
            "Epoch [5/5], Loss: 0.1352\n",
            "Accuracy: 96.84%\n",
            "Architecture: [784, 512, 256, 128, 10], Learning Rate: 0.001, Activation: Sigmoid()\n",
            "Epoch [1/5], Loss: 0.2323\n",
            "Epoch [2/5], Loss: 0.1341\n",
            "Epoch [3/5], Loss: 0.1443\n",
            "Epoch [4/5], Loss: 0.1373\n",
            "Epoch [5/5], Loss: 0.0684\n",
            "Accuracy: 96.77%\n",
            "Architecture: [784, 512, 256, 128, 10], Learning Rate: 0.001, Activation: Tanh()\n",
            "Epoch [1/5], Loss: 0.3129\n",
            "Epoch [2/5], Loss: 0.1973\n",
            "Epoch [3/5], Loss: 0.4256\n",
            "Epoch [4/5], Loss: 0.1501\n",
            "Epoch [5/5], Loss: 0.2451\n",
            "Accuracy: 94.32%\n"
          ]
        }
      ],
      "source": [
        "for arch in architectures:\n",
        "    for lr in learning_rates:\n",
        "        for activation in activation_functions:\n",
        "            print(f\"Architecture: {arch}, Learning Rate: {lr}, Activation: {activation}\")\n",
        "            # Create a model dynamically\n",
        "            class DynamicNN(nn.Module):\n",
        "                def __init__(self, layers, activation_fn):\n",
        "                    super(DynamicNN, self).__init__()\n",
        "                    self.layers = nn.ModuleList()\n",
        "                    for i in range(len(layers) - 1):\n",
        "                        self.layers.append(nn.Linear(layers[i], layers[i + 1]))\n",
        "                    self.activation = activation_fn\n",
        "\n",
        "                def forward(self, x):\n",
        "                    x = x.view(x.size(0), -1)\n",
        "                    for layer in self.layers[:-1]:\n",
        "                        x = self.activation(layer(x))\n",
        "                    x = self.layers[-1](x)\n",
        "                    return x\n",
        "\n",
        "            model = DynamicNN(arch, activation).to(device)\n",
        "            optimizer = optim.Adam(model.parameters(), lr=lr)\n",
        "            train_model(model, train_loader, criterion, optimizer, epochs=5)\n",
        "            accuracy = evaluate_model(model, test_loader)"
      ]
    },
    {
      "cell_type": "code",
      "execution_count": null,
      "id": "65f78428-7a58-4896-b1d9-f39bb8b839a1",
      "metadata": {
        "id": "65f78428-7a58-4896-b1d9-f39bb8b839a1"
      },
      "outputs": [],
      "source": []
    }
  ],
  "metadata": {
    "kernelspec": {
      "display_name": "'TFGPU'",
      "language": "python",
      "name": "tfgpu"
    },
    "language_info": {
      "codemirror_mode": {
        "name": "ipython",
        "version": 3
      },
      "file_extension": ".py",
      "mimetype": "text/x-python",
      "name": "python",
      "nbconvert_exporter": "python",
      "pygments_lexer": "ipython3",
      "version": "3.10.0"
    },
    "colab": {
      "provenance": [],
      "include_colab_link": true
    }
  },
  "nbformat": 4,
  "nbformat_minor": 5
}